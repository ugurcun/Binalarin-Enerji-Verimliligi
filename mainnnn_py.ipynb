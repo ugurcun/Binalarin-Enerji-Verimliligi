{
  "nbformat": 4,
  "nbformat_minor": 0,
  "metadata": {
    "colab": {
      "provenance": [],
      "gpuType": "T4",
      "authorship_tag": "ABX9TyMJDozDBPP9kG7BayDrIJkV",
      "include_colab_link": true
    },
    "kernelspec": {
      "name": "python3",
      "display_name": "Python 3"
    },
    "language_info": {
      "name": "python"
    },
    "accelerator": "GPU"
  },
  "cells": [
    {
      "cell_type": "markdown",
      "metadata": {
        "id": "view-in-github",
        "colab_type": "text"
      },
      "source": [
        "<a href=\"https://colab.research.google.com/github/ugurcun/Binalarin-Enerji-Verimliligi/blob/main/mainnnn_py.ipynb\" target=\"_parent\"><img src=\"https://colab.research.google.com/assets/colab-badge.svg\" alt=\"Open In Colab\"/></a>"
      ]
    },
    {
      "cell_type": "code",
      "source": [
        "import pandas as pd\n",
        "import numpy as np\n",
        "import matplotlib.pyplot as plt\n",
        "import seaborn as sns\n",
        "\n",
        "data = pd.read_csv(\"ENB2012_data.csv\")\n",
        "\n",
        "# Eksik değerleri kontrol edelim\n",
        "print(data.isnull().sum())\n",
        "\n",
        "# Kategorik değişken olup olmadığını kontrol edelim\n",
        "print(data.dtypes)\n",
        "\n",
        "# Veriyi ölçeklendirme\n",
        "# Örneğin, StandardScaler kullanarak verileri standartlaştırabiliriz\n",
        "from sklearn.preprocessing import StandardScaler\n",
        "scaler = StandardScaler()\n",
        "numerical_features = ['X1', 'X2', 'X3', 'X4', 'X5', 'X6', 'X7', 'X8']\n",
        "data[numerical_features] = scaler.fit_transform(data[numerical_features])\n",
        "\n",
        "# Veriyi modele beslemeye hazır hale getirdik\n",
        "print(data.head())\n"
      ],
      "metadata": {
        "colab": {
          "base_uri": "https://localhost:8080/"
        },
        "id": "6U-cYo85peh4",
        "outputId": "dbcbe689-97ff-47bc-f730-73183b9594b0"
      },
      "execution_count": 13,
      "outputs": [
        {
          "output_type": "stream",
          "name": "stdout",
          "text": [
            "X1    0\n",
            "X2    0\n",
            "X3    0\n",
            "X4    0\n",
            "X5    0\n",
            "X6    0\n",
            "X7    0\n",
            "X8    0\n",
            "Y1    0\n",
            "Y2    0\n",
            "dtype: int64\n",
            "X1    float64\n",
            "X2    float64\n",
            "X3    float64\n",
            "X4    float64\n",
            "X5    float64\n",
            "X6      int64\n",
            "X7    float64\n",
            "X8      int64\n",
            "Y1    float64\n",
            "Y2    float64\n",
            "dtype: object\n",
            "         X1        X2        X3        X4   X5        X6        X7        X8  \\\n",
            "0  2.041777 -1.785875 -0.561951 -1.470077  1.0 -1.341641 -1.760447 -1.814575   \n",
            "1  2.041777 -1.785875 -0.561951 -1.470077  1.0 -0.447214 -1.760447 -1.814575   \n",
            "2  2.041777 -1.785875 -0.561951 -1.470077  1.0  0.447214 -1.760447 -1.814575   \n",
            "3  2.041777 -1.785875 -0.561951 -1.470077  1.0  1.341641 -1.760447 -1.814575   \n",
            "4  1.284979 -1.229239  0.000000 -1.198678  1.0 -1.341641 -1.760447 -1.814575   \n",
            "\n",
            "      Y1     Y2  \n",
            "0  15.55  21.33  \n",
            "1  15.55  21.33  \n",
            "2  15.55  21.33  \n",
            "3  15.55  21.33  \n",
            "4  20.84  28.28  \n"
          ]
        }
      ]
    },
    {
      "cell_type": "code",
      "source": [
        "from sklearn.model_selection import train_test_split\n",
        "\n",
        "# Veri setini train, validation ve test kümelerine bölelim\n",
        "X = data.drop(['Y1', 'Y2'], axis=1)  # Bağımsız değişkenler\n",
        "y = data[['Y1', 'Y2']]  # Bağımlı değişkenler\n",
        "\n",
        "# Önce train ve test kümelerine bölelim\n",
        "X_train, X_test, y_train, y_test = train_test_split(X, y, test_size=0.2, random_state=42)\n",
        "\n",
        "# Ardından train kümesini train ve validation kümelerine bölelim\n",
        "X_train, X_val, y_train, y_val = train_test_split(X_train, y_train, test_size=0.25, random_state=42)\n",
        "\n",
        "# Şimdi train, validation ve test kümelerimizi kullanarak modeli eğitebilir ve değerlendirebiliriz.\n",
        "print(\"Train kümesi boyutu:\", X_train.shape)\n",
        "print(\"Validation kümesi boyutu:\", X_val.shape)\n",
        "print(\"Test kümesi boyutu:\", X_test.shape)\n"
      ],
      "metadata": {
        "colab": {
          "base_uri": "https://localhost:8080/"
        },
        "id": "2Bo4vcYUqQXk",
        "outputId": "fca89f97-f918-472f-f1bb-0e4dd46aedff"
      },
      "execution_count": 14,
      "outputs": [
        {
          "output_type": "stream",
          "name": "stdout",
          "text": [
            "Train kümesi boyutu: (460, 8)\n",
            "Validation kümesi boyutu: (154, 8)\n",
            "Test kümesi boyutu: (154, 8)\n"
          ]
        }
      ]
    },
    {
      "source": [
        "from sklearn.linear_model import LinearRegression\n",
        "from sklearn.tree import DecisionTreeRegressor\n",
        "from sklearn.ensemble import RandomForestRegressor\n",
        "from sklearn.svm import SVR\n",
        "from sklearn.neighbors import KNeighborsRegressor\n",
        "from sklearn.metrics import mean_squared_error\n",
        "\n",
        "# Modelleri oluşturalım\n",
        "models = {\n",
        "    \"Linear Regression\": LinearRegression(),\n",
        "    \"Decision Tree\": DecisionTreeRegressor(),\n",
        "    \"Random Forest\": RandomForestRegressor(),\n",
        "    \"Support Vector Regression\": SVR(),\n",
        "    \"K-Nearest Neighbors\": KNeighborsRegressor()\n",
        "}\n",
        "\n",
        "# Hedef değişkenleri ayrı ayrı ele alalım\n",
        "target_variables = ['Y1', 'Y2']\n",
        "\n",
        "# Her hedef değişkeni için en iyi modeli bulalım\n",
        "for target_variable in target_variables:\n",
        "    # Her model için RMSE hesaplayalım ve sonuçları saklayalım\n",
        "    results = {}\n",
        "    for model_name, model in models.items():\n",
        "        # Hedef değişkeni seç\n",
        "        y_train_single = y_train[target_variable]\n",
        "        y_val_single = y_val[target_variable]\n",
        "\n",
        "        # Modeli eğit ve tahmin yap\n",
        "        model.fit(X_train, y_train_single)  # Modeli train kümesiyle eğitelim\n",
        "        y_pred = model.predict(X_val)  # Validation kümesiyle tahmin yapalım\n",
        "\n",
        "        # RMSE hesapla\n",
        "        rmse = np.sqrt(mean_squared_error(y_val_single, y_pred))  # RMSE hesaplayalım\n",
        "        results[model_name] = rmse\n",
        "\n",
        "    # En iyi performans gösteren modeli seçelim\n",
        "    best_model_name = min(results, key=results.get)\n",
        "    best_rmse = results[best_model_name]\n",
        "\n",
        "    print(f\"Hedef Değişken: {target_variable}\")\n",
        "    print(\"Model Performansları:\")\n",
        "    for model_name, rmse in results.items():\n",
        "        print(f\"{model_name}: RMSE = {rmse}\")\n",
        "\n",
        "    print(f\"\\nEn iyi model: {best_model_name}, RMSE = {best_rmse}\")\n",
        "\n",
        "    # En iyi modeli test kümesiyle değerlendirelim\n",
        "    best_model = models[best_model_name]\n",
        "    y_pred_test = best_model.predict(X_test)\n",
        "    rmse_test = np.sqrt(mean_squared_error(y_test[target_variable], y_pred_test))\n",
        "    print(f\"\\nTest Kümesi Performansı: RMSE = {rmse_test}\\n\")"
      ],
      "cell_type": "code",
      "metadata": {
        "colab": {
          "base_uri": "https://localhost:8080/"
        },
        "id": "Xrf83bLWq0J3",
        "outputId": "df6096f1-5f3b-4afd-89a8-9efef0b0c07e"
      },
      "execution_count": 15,
      "outputs": [
        {
          "output_type": "stream",
          "name": "stdout",
          "text": [
            "Hedef Değişken: Y1\n",
            "Model Performansları:\n",
            "Linear Regression: RMSE = 3.0067479209962586\n",
            "Decision Tree: RMSE = 0.6439054943967211\n",
            "Random Forest: RMSE = 0.5317094757697813\n",
            "Support Vector Regression: RMSE = 3.0595203177463963\n",
            "K-Nearest Neighbors: RMSE = 2.5466458052000203\n",
            "\n",
            "En iyi model: Random Forest, RMSE = 0.5317094757697813\n",
            "\n",
            "Test Kümesi Performansı: RMSE = 0.5150079227735043\n",
            "\n",
            "Hedef Değişken: Y2\n",
            "Model Performansları:\n",
            "Linear Regression: RMSE = 3.1360801641366387\n",
            "Decision Tree: RMSE = 2.3686145876725213\n",
            "Random Forest: RMSE = 1.8464256607603464\n",
            "Support Vector Regression: RMSE = 3.146421371389911\n",
            "K-Nearest Neighbors: RMSE = 2.668784829755383\n",
            "\n",
            "En iyi model: Random Forest, RMSE = 1.8464256607603464\n",
            "\n",
            "Test Kümesi Performansı: RMSE = 1.9329062859654325\n",
            "\n"
          ]
        }
      ]
    }
  ]
}